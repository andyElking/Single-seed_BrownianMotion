{
 "cells": [
  {
   "cell_type": "markdown",
   "id": "2d62210c1d8c58d3",
   "metadata": {
    "collapsed": false
   },
   "source": [
    "# Solvers for Additive-Noise SDEs\n",
    "SDEs of the form\n",
    "$$dX_t = f(t, X_t) \\, dt + σ (t) \\, dW_t$$\n",
    "are said to have additive noise, since the matrix $\\sigma$ in the noise term is independent of $X$. Such SDEs permit special solvers with a higher order of strong convergence than those for general SDEs. A few such solvers are presented below.\n",
    "\n",
    "The high convergence rate of these solvers comes at the cost of requiring information about the Brownian motion's space-time Lévy area, defined as\n",
    "$$\n",
    "    H_{s,t} = \\frac{1}{t-s}  \\int_{s}^{t}  W_u - \\frac{u - s}{t - s} W_{s,t} \\; du.\n",
    "$$\n",
    "We modified the `VirtualBrownianTree` and the `UnsafeBrownianPath` to compute the increments of $H$ in addition to those of $W$. To enable this functionality, these objects must be initialised with `levy_area=\"space-time\"`.\n",
    "\n",
    "\n",
    "## Langevin diffusion\n",
    "An example of an additive-noise SDE is the Langevin diffusion:\n",
    "\\begin{align*}\n",
    "    d \\mathbf{x}_t &= \\mathbf{v}_t \\, dt \\\\\n",
    "    d \\mathbf{v}_t &= - \\gamma \\, \\mathbf{v}_t \\, dt - u \\,\n",
    "    \\nabla \\! f( \\mathbf{x}_t ) \\, dt + \\sqrt{2 \\gamma u} \\, d W_t.\n",
    "\\end{align*}\n",
    "\n",
    "Below we use four examples of Langevin-type SDEs to demonstrate the operation of our solvers.\n"
   ]
  },
  {
   "cell_type": "markdown",
   "id": "e6b28fd5b4566990",
   "metadata": {
    "collapsed": false
   },
   "source": [
    "# Solvers\n",
    "\n",
    "## ALIGN\n",
    "`ALIGN` has strong order 2 and is FSAL, meaning it only performs 1 evaulation of $\\nabla f$ per step.\n",
    "It can only be used for a Langevin SDE of the form\n",
    "\\begin{align*}\n",
    "    d \\mathbf{x}_t &= \\mathbf{v}_t \\, dt \\\\\n",
    "    d \\mathbf{v}_t &= - \\gamma \\, \\mathbf{v}_t \\, dt - u \\, \\nabla \\! f( \\mathbf{x}_t ) \\, dt + \\sqrt{2 \\gamma u} \\, d W_t.\n",
    "\\end{align*}\n",
    "ALIGN natively supports adaptive-stepping via an embedded method for error estimation.\n",
    "\n",
    "\n",
    "## SORT\n",
    "Similar to ALIGN, but also uses space-time-time Levy area in order to achieve strong order 3. Also only suitable for Langevin SDEs.\n",
    "Uses three evaluations of the vector-field per step, but it is FSAL, so in practice it only uses two.\n",
    "At this point it can only be used adaptively if a `HalfSolver` is used.\n",
    "\n",
    "\n",
    "## ShOULD\n",
    "`ShOULD` takes the 3rd order convergence from `SORT` and complements it with the improved trajectory computation from `ALIGN`. It can only be used for Langevin SDEs.\n",
    "\n",
    "\n",
    "## ShARK\n",
    "`ShARK` normally has strong order 1.5, but when applied to a Langevin SDE it has order 2. Unlike ALIGN or SORT it can be used for any additive-noise SDE.\n",
    " It has a better local error than SRA1. Uses two evaluations of the vector-field per step.\n",
    "\n",
    "Based on equation (6.1) in\n",
    "    Foster, J., dos Reis, G., & Strange, C. (2023).\n",
    "    High order splitting methods for SDEs satisfying a commutativity condition.\n",
    "    arXiv [Math.NA] http://arxiv.org/abs/2210.17543\n",
    "    \n",
    "\n",
    "## SRA1\n",
    "`SRA1` normally has strong order 1.5, but when applied to a Langevin SDE it has order 2. It natively supports adaptive-stepping via an embedded method for error estimation. Uses two evaluations of the vector-field per step.\n",
    "\n",
    "Based on the SRA1 method from\n",
    "    A. Rößler, Runge–Kutta methods for the strong approximation of solutions of stochastic differential equations,\n",
    "    SIAM Journal on Numerical Analysis, 8 (2010), pp. 922–952.\n",
    "    \n",
    "\n",
    "## Shifted Additive-noise Euler (SEA)\n",
    "This variant of the Euler-Maruyama makes use of the space-time Levy area, which improves its local error to $O(h^2)$ compared to $O(h^{1.5})$ of the standard Euler-Maruyama."
   ]
  },
  {
   "cell_type": "code",
   "execution_count": 1,
   "id": "fc0f513d34bcf857",
   "metadata": {
    "ExecuteTime": {
     "end_time": "2024-04-17T13:46:17.072507Z",
     "start_time": "2024-04-17T13:46:16.146213Z"
    },
    "collapsed": false
   },
   "source": [
    "%env JAX_PLATFORM_NAME=cuda\n",
    "\n",
    "from mcmc.helpers import (\n",
    "    get_bqp,\n",
    "    get_harmonic_oscillator,\n",
    "    get_neals_funnel,\n",
    "    get_uld3_langevin,\n",
    "    simple_batch_sde_solve,\n",
    ")\n",
    "from typing import Literal\n",
    "\n",
    "import diffrax\n",
    "import jax.numpy as jnp\n",
    "import jax.random as jr\n",
    "from diffrax import (\n",
    "    ALIGN,\n",
    "    diffeqsolve,\n",
    "    PIDController,\n",
    "    ShARK,\n",
    "    ShOULD,\n",
    "    SORT,\n",
    ")\n",
    "from drawing_and_evaluating import (\n",
    "    animated_funnel_plot,\n",
    "    constant_step_strong_order,\n",
    "    draw_order_multiple,\n",
    "    load_order_results,\n",
    "    pid_strong_order,\n",
    "    plot_sol3D,\n",
    "    plot_sol_langevin,\n",
    "    remove_steps,\n",
    "    # noqa: F401\n",
    ")\n",
    "from jax import config\n",
    "\n",
    "\n",
    "config.update(\"jax_enable_x64\", True)\n",
    "config.update(\"jax_debug_nans\", False)\n",
    "config.update(\"jax_disable_jit\", False)\n",
    "jnp.set_printoptions(precision=4, suppress=True)\n",
    "\n",
    "dtype = jnp.float64\n",
    "key = jr.PRNGKey(2)\n",
    "num_samples = 5000\n",
    "keys = jr.split(jr.PRNGKey(5678), num=num_samples)\n",
    "keys_funnel = jr.split(jr.PRNGKey(77), 100)\n",
    "\n",
    "t0, t1 = 0.0, 16.0\n",
    "t_short = 4.0\n",
    "t_long = 32.0\n",
    "dt0 = 0.1\n",
    "LevyArea = Literal[\"\", \"space-time\", \"space-time-time\"]\n",
    "levy_area: LevyArea = \"space-time-time\"\n",
    "\n",
    "\n",
    "hosc = get_harmonic_oscillator(t0, t1, dtype=dtype)\n",
    "terms_hosc = hosc.get_terms(hosc.get_bm(key, levy_area=levy_area, tol=2**-10))\n",
    "hosc_short = get_harmonic_oscillator(t0, t_short, dtype=dtype)\n",
    "\n",
    "bqp = get_bqp(t0, t1, dtype=dtype)\n",
    "terms_bqp = bqp.get_terms(bqp.get_bm(key, levy_area=levy_area, tol=2**-10))\n",
    "bqp_short = get_bqp(t0, t_short, dtype=dtype)\n",
    "\n",
    "uld3_long = get_uld3_langevin(t0, t_long, dtype=dtype)\n",
    "terms_uld3_long = uld3_long.get_terms(\n",
    "    uld3_long.get_bm(key, levy_area=levy_area, tol=2**-10)\n",
    ")\n",
    "uld3 = get_uld3_langevin(t0, t1, dtype=dtype)\n",
    "uld3_short = get_uld3_langevin(t0, t_short, dtype=dtype)\n",
    "\n",
    "funnel = get_neals_funnel(t0, t_long, dtype=dtype)\n",
    "terms_funnel = funnel.get_terms(\n",
    "    funnel.get_bm(key, levy_area=\"space-time-time\", tol=2**-12)\n",
    ")\n",
    "\n",
    "half_should = diffrax.HalfSolver(ShOULD(0.01))\n",
    "half_sort = diffrax.HalfSolver(SORT(0.01))\n",
    "half_heun = diffrax.HalfSolver(diffrax.Heun())\n",
    "half_align = diffrax.HalfSolver(ALIGN(0.1))\n",
    "half_shark = diffrax.HalfSolver(ShARK())\n",
    "half_sra1 = diffrax.HalfSolver(diffrax.SRA1())"
   ],
   "outputs": []
  },
  {
   "cell_type": "markdown",
   "id": "47d711a6e61c04e1",
   "metadata": {
    "collapsed": false
   },
   "source": [
    "# Experiments on different versions of the langevin SDE\n",
    "\n",
    "## Neal's funnel\n",
    "\n",
    "Neal's funnel is a 10-dimensional funnel-shaped distribution commonly used as test case for MCMC algorithms. The target distribution is given by\n",
    "$$\n",
    "    Z \\sim \\mathcal{N}(0, 3) \\quad \\text{and} \\quad Y \\sim \\mathcal{N}(0, \\exp(Z) \\mathbf{I}_{9}).\n",
    "$$\n",
    "This is easy to sample from normally, but presents a challenge for MCMC methods to converge to, due to the narrow funnel shape.\n",
    "\n",
    "We use the following Langevin SDE to sample from the funnel:\n",
    "\\begin{align*}\n",
    "    d \\mathbf{x}_t &= \\mathbf{v}_t \\, dt \\\\\n",
    "    d \\mathbf{v}_t &= - \\mathbf{v}_t \\, dt - \\,\n",
    "    \\nabla \\log p \\, ( \\mathbf{x}_t ) \\, dt + \\sqrt{2} \\, d W_t\n",
    "\\end{align*}\n",
    "\n",
    "where $p$ is the target distribution."
   ]
  },
  {
   "cell_type": "code",
   "execution_count": 2,
   "id": "eda84c4e494b9199",
   "metadata": {
    "ExecuteTime": {
     "end_time": "2024-04-17T13:49:29.315629Z",
     "start_time": "2024-04-17T13:46:18.372683Z"
    },
    "collapsed": false
   },
   "source": [
    "# out_SORT_funnel_pid = pid_strong_order(\n",
    "#     keys_funnel,\n",
    "#     funnel,\n",
    "#     half_sort,\n",
    "#     (4, 20),\n",
    "# )\n",
    "# save_order_results(out_SORT_funnel_pid, \"funnel_SORT_pid\")\n",
    "out_SORT_funnel_pid = load_order_results(\"funnel_SORT_pid\")\n",
    "\n",
    "# out_SORT_funnel_const = constant_step_strong_order(\n",
    "#     keys_funnel, funnel, SORT(0.01), levels=(6, 12)\n",
    "# )\n",
    "# save_order_results(out_SORT_funnel_const, \"funnel_SORT_const\")\n",
    "out_SORT_funnel_const = load_order_results(\"funnel_SORT_const\")\n",
    "\n",
    "# out_SRA1_funnel_pid = pid_strong_order(keys_funnel, funnel, half_sra1, (1, 11))\n",
    "# save_order_results(out_SRA1_funnel_pid, \"funnel_SRA1_pid\")\n",
    "out_SRA1_funnel_pid = load_order_results(\"funnel_SRA1_pid\")\n",
    "\n",
    "# out_Euler_funnel_const = constant_step_strong_order(\n",
    "#     keys_funnel, funnel, diffrax.Euler(), (7, 13), bm_tol=2**-12\n",
    "# )\n",
    "# save_order_results(out_Euler_funnel_const, \"funnel_Euler_const\")\n",
    "out_Euler_funnel_const = load_order_results(\"funnel_Euler_const\")\n",
    "\n",
    "out_SORT_funnel_pid = remove_steps(out_SORT_funnel_pid, 6, 0)\n",
    "out_SORT_funnel_const = remove_steps(out_SORT_funnel_const, 0, 1)"
   ],
   "outputs": []
  },
  {
   "cell_type": "code",
   "execution_count": 6,
   "id": "d8ca5c038ac87796",
   "metadata": {
    "ExecuteTime": {
     "end_time": "2024-04-17T13:50:05.564162Z",
     "start_time": "2024-04-17T13:50:05.156242Z"
    },
    "collapsed": false
   },
   "source": [
    "fig = draw_order_multiple(\n",
    "    [\n",
    "        out_Euler_funnel_const,\n",
    "        out_SRA1_funnel_pid,\n",
    "        out_SORT_funnel_const,\n",
    "        out_SORT_funnel_pid,\n",
    "    ],\n",
    "    [\"Euler constant\", \"SRA1 adaptive\", \"SORT constant\", \"SORT adaptive\"],\n",
    "    title=\"Neal's funnel\",\n",
    ")\n",
    "fig.savefig(\"graphs/funnel_convergence.png\")\n",
    "fig.savefig(\"graphs/funnel_convergence.pdf\")"
   ],
   "outputs": []
  },
  {
   "cell_type": "code",
   "execution_count": 21,
   "id": "ee8a7ec27ba5e828",
   "metadata": {},
   "source": [
    "funnel_save_steps = jnp.linspace(t0, t_long, 2**9 + 1, endpoint=True)\n",
    "pid_contr = PIDController(\n",
    "    pcoeff=0.1,\n",
    "    icoeff=0.3,\n",
    "    rtol=0,\n",
    "    atol=2**-10,\n",
    "    step_ts=funnel_save_steps,\n",
    "    dtmin=2**-14,\n",
    ")\n",
    "batch_solSORTfunnel = simple_batch_sde_solve(\n",
    "    keys_funnel,\n",
    "    funnel,\n",
    "    half_sort,\n",
    "    levy_area,\n",
    "    None,\n",
    "    controller=pid_contr,\n",
    "    bm_tol=2**-16,\n",
    "    saveat=diffrax.SaveAt(ts=funnel_save_steps),\n",
    ")\n",
    "ani, fig, ax = animated_funnel_plot(batch_solSORTfunnel)\n",
    "ani.save(\"funnel.gif\", writer=\"pillow\")"
   ],
   "outputs": []
  },
  {
   "cell_type": "markdown",
   "id": "6b04a83566b1826b",
   "metadata": {
    "collapsed": false
   },
   "source": [
    "## A 2D Harmonic Oscillator\n",
    "\\begin{align*}\n",
    "    d \\mathbf{x}_t &= \\mathbf{v}_t \\, dt \\\\\n",
    "    d \\mathbf{v}_t &= - \\gamma \\, \\mathbf{v}_t \\, dt - u \\, \\mathbf{x}_t \\, dt + \\sqrt{2 \\gamma u} \\, d W_t\n",
    "\\end{align*}\n",
    "where $\\mathbf{x}_t, \\mathbf{v}_t, W_t \\in \\mathbb{R}^2$."
   ]
  },
  {
   "cell_type": "code",
   "execution_count": 11,
   "id": "6d955ad9305d46a2",
   "metadata": {
    "ExecuteTime": {
     "end_time": "2024-02-08T14:07:54.799955968Z",
     "start_time": "2024-02-08T14:07:52.627282287Z"
    },
    "collapsed": false
   },
   "source": [
    "solALIGN = diffeqsolve(\n",
    "    terms_hosc,\n",
    "    ALIGN(0.1),\n",
    "    t0,\n",
    "    t1,\n",
    "    dt0=dt0,\n",
    "    y0=hosc.y0,\n",
    "    args=hosc.args,\n",
    "    saveat=diffrax.SaveAt(steps=True),\n",
    ")\n",
    "plot_sol_langevin(solALIGN)"
   ],
   "outputs": []
  },
  {
   "cell_type": "code",
   "execution_count": 24,
   "id": "84d3509ae3f3f61e",
   "metadata": {
    "ExecuteTime": {
     "end_time": "2024-02-08T14:15:53.101145073Z",
     "start_time": "2024-02-08T14:14:47.853972701Z"
    },
    "collapsed": false
   },
   "source": [
    "out_ALIGN_hosc = constant_step_strong_order(keys, hosc_short, ALIGN(0.1), levels=(3, 8))\n",
    "out_ShOULD_hosc = constant_step_strong_order(\n",
    "    keys, hosc_short, ShOULD(0.01), levels=(3, 8)\n",
    ")\n",
    "out_SORT_hosc = constant_step_strong_order(keys, hosc_short, SORT(0.01), levels=(3, 8))\n",
    "out_ShARK_hosc = constant_step_strong_order(keys, hosc_short, ShARK(), levels=(3, 8))"
   ],
   "outputs": []
  },
  {
   "cell_type": "code",
   "execution_count": 25,
   "id": "2a79285b27cc48e9",
   "metadata": {
    "ExecuteTime": {
     "end_time": "2024-02-08T14:15:53.327912622Z",
     "start_time": "2024-02-08T14:15:53.145037231Z"
    },
    "collapsed": false
   },
   "source": [
    "draw_order_multiple(\n",
    "    [out_ALIGN_hosc, out_ShOULD_hosc, out_SORT_hosc, out_ShARK_hosc],\n",
    "    [\"ALIGN\", \"ShOULD\", \"SORT\", \"ShARK\"],\n",
    "    title=\"Harmonic oscillator\",\n",
    ")"
   ],
   "outputs": []
  },
  {
   "cell_type": "markdown",
   "id": "f3aab424a06335d1",
   "metadata": {
    "collapsed": false
   },
   "source": [
    "## Particle in a Bistable Quartic Potential\n",
    "\\begin{align*}\n",
    "    d x_t &= v_t \\, dt \\\\\n",
    "    d v_t &= - \\gamma \\, v_t \\, dt - u \\, \\nabla \\! f( x_t ) \\, dt + \\sqrt{2 \\gamma u} \\, d W_t\n",
    "\\end{align*}\n",
    "where $x_t, v_t, W_t \\in \\mathbb{R}$ and $f(x) = (x-1)^2 (x+1)^2$."
   ]
  },
  {
   "cell_type": "code",
   "execution_count": 14,
   "id": "b0fc93fb31b1d087",
   "metadata": {
    "ExecuteTime": {
     "end_time": "2024-02-08T14:08:53.479937428Z",
     "start_time": "2024-02-08T14:08:52.138569602Z"
    },
    "collapsed": false
   },
   "source": [
    "solALIGN_bqp = diffeqsolve(\n",
    "    terms_bqp,\n",
    "    ALIGN(0.1),\n",
    "    t0,\n",
    "    t1,\n",
    "    dt0=dt0,\n",
    "    y0=bqp.y0,\n",
    "    args=bqp.args,\n",
    "    saveat=diffrax.SaveAt(steps=True),\n",
    ")\n",
    "plot_sol_langevin(solALIGN_bqp)"
   ],
   "outputs": []
  },
  {
   "cell_type": "code",
   "execution_count": 26,
   "id": "e6d70f3b12c3e771",
   "metadata": {
    "ExecuteTime": {
     "end_time": "2024-02-08T14:16:54.585255519Z",
     "start_time": "2024-02-08T14:15:53.329157013Z"
    },
    "collapsed": false
   },
   "source": [
    "out_ALIGN_bqp = constant_step_strong_order(keys, bqp_short, ALIGN(0.1), levels=(3, 8))\n",
    "out_ShOULD_bqp = constant_step_strong_order(\n",
    "    keys, bqp_short, ShOULD(0.01), levels=(3, 8)\n",
    ")\n",
    "out_SORT_bqp = constant_step_strong_order(keys, bqp_short, SORT(0.01), levels=(3, 8))\n",
    "out_ShARK_bqp = constant_step_strong_order(keys, bqp_short, ShARK(), levels=(3, 8))"
   ],
   "outputs": []
  },
  {
   "cell_type": "code",
   "execution_count": 27,
   "id": "17e70002e01577c1",
   "metadata": {
    "ExecuteTime": {
     "end_time": "2024-02-08T14:16:54.758415146Z",
     "start_time": "2024-02-08T14:16:54.585123677Z"
    },
    "collapsed": false
   },
   "source": [
    "draw_order_multiple(\n",
    "    [out_ALIGN_bqp, out_ShOULD_bqp, out_SORT_bqp, out_ShARK_bqp],\n",
    "    [\"ALIGN\", \"ShOULD\", \"SORT\", \"ShARK\"],\n",
    "    title=\"Bistable Quartic Potential\",\n",
    ")"
   ],
   "outputs": []
  },
  {
   "cell_type": "markdown",
   "id": "3e171b0178168e74",
   "metadata": {
    "collapsed": false
   },
   "source": [
    "## The \"ULD3\" Oscillator\n",
    "Three particles in a 3D potential with three minima at (2, 2, 2), (-2, -2, -2) and (3, -1, 0)."
   ]
  },
  {
   "cell_type": "code",
   "execution_count": 17,
   "id": "8c9ff126eeab4183",
   "metadata": {
    "ExecuteTime": {
     "end_time": "2024-02-08T14:09:53.227754229Z",
     "start_time": "2024-02-08T14:09:47.965391015Z"
    },
    "collapsed": false
   },
   "source": [
    "solALIGN_uld3 = diffeqsolve(\n",
    "    terms_uld3_long,\n",
    "    ALIGN(0.1),\n",
    "    t0,\n",
    "    t_long,\n",
    "    dt0=dt0,\n",
    "    y0=uld3_long.y0,\n",
    "    args=uld3_long.args,\n",
    "    saveat=diffrax.SaveAt(steps=True),\n",
    ")\n",
    "plot_sol_langevin(solALIGN_uld3)\n",
    "plot_sol3D(solALIGN_uld3)"
   ],
   "outputs": []
  },
  {
   "cell_type": "code",
   "execution_count": 28,
   "id": "9777fd08025e487b",
   "metadata": {
    "ExecuteTime": {
     "end_time": "2024-02-08T14:18:21.297027065Z",
     "start_time": "2024-02-08T14:16:54.889638130Z"
    },
    "collapsed": false
   },
   "source": [
    "out_ALIGN_uld3 = constant_step_strong_order(keys, uld3_short, ALIGN(0.1), levels=(3, 8))\n",
    "out_ShOULD_uld3 = constant_step_strong_order(\n",
    "    keys, uld3_short, ShOULD(0.01), levels=(3, 8)\n",
    ")\n",
    "out_SORT_uld3 = constant_step_strong_order(keys, uld3_short, SORT(0.01), levels=(3, 8))\n",
    "out_ShARK_uld3 = constant_step_strong_order(keys, uld3_short, ShARK(), levels=(3, 8))"
   ],
   "outputs": []
  },
  {
   "cell_type": "code",
   "execution_count": 29,
   "id": "495b95cd4bb34d",
   "metadata": {
    "ExecuteTime": {
     "end_time": "2024-02-08T14:18:21.488202625Z",
     "start_time": "2024-02-08T14:18:21.336997856Z"
    },
    "collapsed": false
   },
   "source": [
    "draw_order_multiple(\n",
    "    [out_ALIGN_uld3, out_ShOULD_uld3, out_SORT_uld3, out_ShARK_uld3],\n",
    "    [\"ALIGN\", \"ShOULD\", \"SORT\", \"ShARK\"],\n",
    "    title=\"ULD3\",\n",
    ")"
   ],
   "outputs": []
  },
  {
   "cell_type": "code",
   "execution_count": 34,
   "id": "76cf9c6701bbf79d",
   "metadata": {
    "ExecuteTime": {
     "end_time": "2024-02-08T14:49:47.593383949Z",
     "start_time": "2024-02-08T14:44:40.392261809Z"
    },
    "collapsed": false
   },
   "source": [
    "keys_large = jr.split(jr.PRNGKey(77), 200)\n",
    "out_ShOULD_uld3_pid = pid_strong_order(\n",
    "    keys_large,\n",
    "    uld3,\n",
    "    half_should,\n",
    "    (-3, 14),\n",
    ")\n",
    "out_SORT_uld3_pid = pid_strong_order(keys_large, uld3, half_sort, (-3, 14))"
   ],
   "outputs": []
  },
  {
   "cell_type": "code",
   "execution_count": 35,
   "id": "cce55be66fbd2623",
   "metadata": {
    "ExecuteTime": {
     "end_time": "2024-02-08T14:49:47.793006950Z",
     "start_time": "2024-02-08T14:49:47.593181934Z"
    },
    "collapsed": false
   },
   "source": [
    "draw_order_multiple(\n",
    "    [out_ShOULD_uld3_pid, out_SORT_uld3_pid],\n",
    "    [\"ShOULD\", \"SORT\"],\n",
    "    title=\"ULD3 with PID controller\",\n",
    ")"
   ],
   "outputs": []
  },
  {
   "cell_type": "code",
   "execution_count": 22,
   "id": "a2d304a43caa3cf0",
   "metadata": {
    "ExecuteTime": {
     "end_time": "2024-02-08T14:13:48.921307468Z",
     "start_time": "2024-02-08T14:13:46.497499645Z"
    },
    "collapsed": false
   },
   "source": [
    "# Most of the methods presented above use an embeded method for error estimates,\n",
    "# so they have native adaptive-stepping support\n",
    "controller = PIDController(pcoeff=0.1, icoeff=0.3, rtol=0.005, atol=0.001)\n",
    "solALIGN_PID = diffeqsolve(\n",
    "    terms_hosc,\n",
    "    ALIGN(0.1),\n",
    "    t0,\n",
    "    t1,\n",
    "    dt0=dt0,\n",
    "    y0=hosc.y0,\n",
    "    args=hosc.args,\n",
    "    saveat=diffrax.SaveAt(steps=True),\n",
    "    stepsize_controller=controller,\n",
    ")\n",
    "plot_sol_langevin(solALIGN_PID)"
   ],
   "outputs": []
  }
 ],
 "metadata": {
  "kernelspec": {
   "display_name": "Python 3",
   "language": "python",
   "name": "python3"
  },
  "language_info": {
   "codemirror_mode": {
    "name": "ipython",
    "version": 2
   },
   "file_extension": ".py",
   "mimetype": "text/x-python",
   "name": "python",
   "nbconvert_exporter": "python",
   "pygments_lexer": "ipython2",
   "version": "2.7.6"
  }
 },
 "nbformat": 4,
 "nbformat_minor": 5
}
