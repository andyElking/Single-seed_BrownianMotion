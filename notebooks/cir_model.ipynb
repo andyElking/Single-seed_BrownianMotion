{
 "cells": [
  {
   "cell_type": "markdown",
   "id": "c3ec1b0a77d0b45d",
   "metadata": {
    "collapsed": false
   },
   "source": [
    "# Performance of Foster's CIR solver vs the Drift-implicit Euler scheme applied to the CIR process\n",
    "\n",
    "We compare the performance of the two solvers on two examples of the CIR process, an easier one and a stiffer one. We also compare adaptive step size control with a fixed step size.\n",
    "\n",
    "## Summary of results\n",
    "Medium-volatility CIR (a=1, b=1, sigma=1.5):\n",
    "- HOStS non-adaptive: 0.7824\n",
    "- HOStS adaptive: 1.8225\n",
    "- DriftImplicitEuler non-adaptive: 0.8618\n",
    "- DriftImplicitEuler adaptive: 1.0269\n",
    "\n",
    "High-volatility CIR (a=1, b=1, sigma=2.2):\n",
    "- HOStS non-adaptive: 0.3944\n",
    "- HOStS adaptive: 0.8092\n",
    "- DriftImplicitEuler non-adaptive: 0.4642\n",
    "- DriftImplicitEuler adaptive: 0.8618"
   ]
  },
  {
   "cell_type": "code",
   "execution_count": 5,
   "id": "693ca0bb9cd2370d",
   "metadata": {
    "ExecuteTime": {
     "end_time": "2024-04-23T18:28:15.788155Z",
     "start_time": "2024-04-23T18:28:15.776780Z"
    },
    "collapsed": false
   },
   "source": [
    "from typing import Optional\n",
    "\n",
    "\n",
    "%env JAX_PLATFORM_NAME=cuda\n",
    "\n",
    "from mcmc.helpers import get_cir, simple_sde_order\n",
    "\n",
    "import jax.numpy as jnp\n",
    "import jax.random as jr\n",
    "import matplotlib.pyplot as plt\n",
    "import pandas as pd\n",
    "from diffrax import (\n",
    "    diffeqsolve,\n",
    "    DriftImplicitEulerCIR as DIE,\n",
    "    HOStS,\n",
    "    SaveAt,\n",
    ")\n",
    "from diffrax._step_size_controller.cir_adaptive import CIRController\n",
    "from drawing_and_evaluating import (\n",
    "    draw_order_multiple,\n",
    "    load_order_results,  # noqa: F401\n",
    "    # noqa: F401\n",
    "    remove_steps,\n",
    "    # noqa: F401\n",
    ")\n",
    "from jax import config\n",
    "\n",
    "\n",
    "config.update(\"jax_enable_x64\", True)\n",
    "jnp.set_printoptions(precision=4, suppress=True)\n",
    "pd.set_option(\"display.float_format\", \"{:.3}\".format)\n",
    "\n",
    "\n",
    "def cir_strong_order(keys, sde, solver, levels, bm_tol=None):\n",
    "    def get_controller(level):\n",
    "        return CIRController(\n",
    "            ctol=2**-level,\n",
    "            dtmin=2**-15,\n",
    "            dtmax=1.0,\n",
    "        )\n",
    "\n",
    "    if bm_tol is None:\n",
    "        bm_tol = 2**-16\n",
    "    return simple_sde_order(\n",
    "        keys, sde, solver, solver, levels, get_controller, SaveAt(t1=True), bm_tol\n",
    "    )\n",
    "\n",
    "\n",
    "def print_stats(\n",
    "    steps_errs_ord: tuple,\n",
    "    _tols: Optional[jnp.ndarray],\n",
    "):\n",
    "    num_steps, errs, order = steps_errs_ord\n",
    "    column_names = [\"num_steps\", \"errs\"]\n",
    "    columns = [num_steps, errs]\n",
    "    if _tols is not None:\n",
    "        tols_pow_hs = jnp.power(_tols, 2 / 3) * num_steps\n",
    "        columns.extend([_tols, _tols / errs, _tols * num_steps, tols_pow_hs])\n",
    "        column_names.extend([\"tols\", \"tols/errs\", \"tols/hs\", \"tols^(2/3)/hs\"])\n",
    "    _table = jnp.stack(columns, axis=1)\n",
    "    # Now use pandas to nicely print the table with the headers\n",
    "    table = pd.DataFrame(_table, columns=column_names)\n",
    "    print(table)\n",
    "\n",
    "\n",
    "dtype = jnp.float64\n",
    "num_samples = 50000\n",
    "bm_key = jr.PRNGKey(2)\n",
    "keys = jr.split(jr.PRNGKey(5678), num=num_samples)\n",
    "\n",
    "\n",
    "def ctols(levels):\n",
    "    return jnp.power(2.0, -jnp.arange(levels[0], levels[1] + 1, dtype=dtype))\n",
    "\n",
    "\n",
    "def get_dtype(x):\n",
    "    if type(x) in [int, float, str]:\n",
    "        return type(x)\n",
    "    else:\n",
    "        return jnp.dtype(x)\n",
    "\n",
    "\n",
    "t0, t1 = 0.0, 16.0\n",
    "t_short = 4.0\n",
    "t_long = 32.0\n",
    "saveat = SaveAt(steps=True)\n",
    "dt0 = 1 / 8\n",
    "levels_const = (3, 11)\n",
    "levels_adap = (0, 10)\n",
    "levels_hard_adap = (1, 9)\n",
    "\n",
    "\n",
    "args = (1.0, 1.0, 1.5)\n",
    "print(f\"tilde_b: {args[1] - (args[2]**2)/(4.0 * args[0])}\")\n",
    "cir = get_cir(t0, t1, args, dtype=dtype)\n",
    "terms_cir = cir.get_terms(cir.get_bm(bm_key, levy_area=\"space-time\", tol=2**-12))\n",
    "cir_short = get_cir(t0, t_short, args, dtype=dtype)\n",
    "args_hard = (1.0, 1.0, 2.2)\n",
    "cir_hard = get_cir(t0, t_short, args_hard, dtype=dtype)\n",
    "terms_cir_hard = cir_hard.get_terms(\n",
    "    cir_hard.get_bm(bm_key, levy_area=\"space-time\", tol=2**-14)\n",
    ")\n",
    "print(f\"tilde_b_hard: {args_hard[1] - (args_hard[2]**2)/(4.0 * args_hard[0]):.2}\")"
   ],
   "outputs": []
  },
  {
   "cell_type": "markdown",
   "id": "d24175705973c2a",
   "metadata": {
    "collapsed": false
   },
   "source": [
    "## Easy problem with medium volatility and positive tilde_b\n",
    "a=1, b=1, sigma=1.5"
   ]
  },
  {
   "cell_type": "code",
   "execution_count": 2,
   "id": "b341ef2f64dfedfc",
   "metadata": {
    "ExecuteTime": {
     "end_time": "2024-04-17T14:56:38.785841Z",
     "start_time": "2024-04-17T14:56:38.782159Z"
    },
    "collapsed": false
   },
   "source": [
    "# hosts_easy_const = constant_step_strong_order(keys, cir_short, HOStS(), levels_const)\n",
    "# save_order_results(hosts_easy_const, \"hosts_easy_const\")\n",
    "hosts_easy_const = load_order_results(\"hosts_easy_const\")\n",
    "\n",
    "# hosts_easy_adap = cir_strong_order(keys, cir_short, HOStS(), levels_adap)\n",
    "# save_order_results(hosts_easy_adap, \"hosts_easy_adap\")\n",
    "hosts_easy_adap = load_order_results(\"hosts_easy_adap\")\n",
    "\n",
    "# die_easy_const = constant_step_strong_order(keys, cir_short, DIE(), levels_const)\n",
    "# save_order_results(die_easy_const, \"die_easy_const\")\n",
    "die_easy_const = load_order_results(\"die_easy_const\")\n",
    "\n",
    "# die_easy_adap = cir_strong_order(keys, cir_short, DIE(), (0, 11))\n",
    "# save_order_results(die_easy_adap, \"die_easy_adap\")\n",
    "die_easy_adap = load_order_results(\"die_easy_adap\")"
   ],
   "outputs": []
  },
  {
   "cell_type": "code",
   "execution_count": 3,
   "id": "209eeb5d61829c2b",
   "metadata": {
    "ExecuteTime": {
     "end_time": "2024-04-17T14:56:41.201617Z",
     "start_time": "2024-04-17T14:56:41.199517Z"
    }
   },
   "source": [
    "hosts_easy_adap = remove_steps(hosts_easy_adap, 0, 1)"
   ],
   "outputs": []
  },
  {
   "cell_type": "code",
   "execution_count": 4,
   "id": "fb6a229ca9d0d5b0",
   "metadata": {
    "ExecuteTime": {
     "end_time": "2024-04-17T14:56:42.364630Z",
     "start_time": "2024-04-17T14:56:41.872334Z"
    },
    "collapsed": false
   },
   "source": [
    "fig = draw_order_multiple(\n",
    "    [hosts_easy_const, hosts_easy_adap, die_easy_const, die_easy_adap],\n",
    "    [\"HoSts\", \"HoSts Adaptive\", \"DIE\", \"DIE adaptive\"],\n",
    "    \"Medium-volatility CIR\",\n",
    ")\n",
    "fig.savefig(\"graphs/medium_volatility_cir.png\")\n",
    "fig.savefig(\"graphs/medium_volatility_cir.pdf\")"
   ],
   "outputs": []
  },
  {
   "cell_type": "markdown",
   "id": "91368ba35a8d01e0",
   "metadata": {
    "collapsed": false
   },
   "source": [
    "## Hard problem with high volatility and negative tilde_b\n",
    "a=1, b=1, sigma=2.2"
   ]
  },
  {
   "cell_type": "code",
   "execution_count": 6,
   "id": "76254158d70cd003",
   "metadata": {
    "ExecuteTime": {
     "end_time": "2024-04-17T14:57:23.372307Z",
     "start_time": "2024-04-17T14:57:23.368469Z"
    },
    "collapsed": false
   },
   "source": [
    "lvl_hard_const = (5, 12)\n",
    "\n",
    "# hosts_hard_const = constant_step_strong_order(\n",
    "#     keys, cir_hard, HOStS(), lvl_hard_const)\n",
    "# save_order_results(hosts_hard_const, \"hosts_hard_const\")\n",
    "hosts_hard_const = load_order_results(\"hosts_hard_const\")\n",
    "\n",
    "# hosts_hard_adap = cir_strong_order(keys, cir_hard, HOStS(), levels_hard_adap)\n",
    "# save_order_results(hosts_hard_adap, \"hosts_hard_adap\")\n",
    "hosts_hard_adap = load_order_results(\"hosts_hard_adap\")\n",
    "\n",
    "# die_hard_const = constant_step_strong_order(keys, cir_hard, DIE(), lvl_hard_const)\n",
    "# save_order_results(die_hard_const, \"die_hard_const\")\n",
    "die_hard_const = load_order_results(\"die_hard_const\")\n",
    "\n",
    "# die_hard_adap = cir_strong_order(keys, cir_hard, DIE(), levels_hard_adap)\n",
    "# save_order_results(die_hard_adap, \"die_hard_adap\")\n",
    "die_hard_adap = load_order_results(\"die_hard_adap\")\n",
    "\n",
    "hosts_hard_adap = remove_steps(hosts_hard_adap, 0, 1)"
   ],
   "outputs": []
  },
  {
   "cell_type": "code",
   "execution_count": 8,
   "id": "9785d8e860da43a3",
   "metadata": {
    "ExecuteTime": {
     "end_time": "2024-04-17T14:57:25.082703Z",
     "start_time": "2024-04-17T14:57:24.807473Z"
    },
    "collapsed": false
   },
   "source": [
    "fig = draw_order_multiple(\n",
    "    [hosts_hard_const, hosts_hard_adap, die_hard_const, die_hard_adap],\n",
    "    [\"HoSts\", \"HoSts Adaptive\", \"DIE\", \"DIE adaptive\"],\n",
    "    \"High-volatility CIR\",\n",
    ")\n",
    "fig.savefig(\"graphs/high_volatility_cir.png\")\n",
    "fig.savefig(\"graphs/high_volatility_cir.pdf\")"
   ],
   "outputs": []
  },
  {
   "cell_type": "code",
   "execution_count": 10,
   "id": "fb41599f63f932d1",
   "metadata": {
    "ExecuteTime": {
     "end_time": "2024-04-23T18:35:12.990412Z",
     "start_time": "2024-04-23T18:35:03.498742Z"
    }
   },
   "source": [
    "print(\"Sample paths for the medium-volatility CIR process\")\n",
    "\n",
    "solDIE = diffeqsolve(terms_cir, DIE(), t0, t1, dt0, cir.y0, cir.args, saveat=saveat)\n",
    "plt.plot(solDIE.ts, solDIE.ys, label=\"DIE non-adaptive\")\n",
    "\n",
    "controller = CIRController(ctol=2**-6, dtmin=2**-12, dtmax=1)\n",
    "solDIE_adap = diffeqsolve(\n",
    "    terms_cir,\n",
    "    DIE(),\n",
    "    t0,\n",
    "    t1,\n",
    "    1.0,\n",
    "    cir.y0,\n",
    "    cir.args,\n",
    "    saveat=saveat,\n",
    "    stepsize_controller=controller,\n",
    "    max_steps=2**15,\n",
    ")\n",
    "plt.plot(solDIE_adap.ts, solDIE_adap.ys, label=\"DIE adaptive\")\n",
    "print(f'num steps: {solDIE_adap.stats[\"num_accepted_steps\"]}')\n",
    "\n",
    "\n",
    "solCIR = diffeqsolve(\n",
    "    terms_cir, HOStS(1.0), t0, t1, dt0, cir.y0, cir.args, saveat=saveat\n",
    ")\n",
    "plt.plot(solCIR.ts, solCIR.ys, label=\"HOStS non-adaptive\")\n",
    "\n",
    "solCIR_adap = diffeqsolve(\n",
    "    terms_cir,\n",
    "    HOStS(1.0),\n",
    "    t0,\n",
    "    t1,\n",
    "    1.0,\n",
    "    cir.y0,\n",
    "    cir.args,\n",
    "    saveat=saveat,\n",
    "    stepsize_controller=controller,\n",
    "    max_steps=2**15,\n",
    ")\n",
    "plt.plot(solCIR_adap.ts, solCIR_adap.ys, label=\"HOStS adaptive\")\n",
    "print(f'num steps: {solCIR_adap.stats[\"num_accepted_steps\"]}')\n",
    "plt.legend()\n",
    "plt.show()"
   ],
   "outputs": []
  }
 ],
 "metadata": {
  "kernelspec": {
   "display_name": "Python 3",
   "language": "python",
   "name": "python3"
  },
  "language_info": {
   "codemirror_mode": {
    "name": "ipython",
    "version": 2
   },
   "file_extension": ".py",
   "mimetype": "text/x-python",
   "name": "python",
   "nbconvert_exporter": "python",
   "pygments_lexer": "ipython2",
   "version": "2.7.6"
  }
 },
 "nbformat": 4,
 "nbformat_minor": 5
}
