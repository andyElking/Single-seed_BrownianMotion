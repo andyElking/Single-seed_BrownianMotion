{
 "cells": [
  {
   "cell_type": "markdown",
   "id": "bcbdcebc7f4e019f",
   "metadata": {
    "collapsed": false
   },
   "source": [
    "# Stochastic Runge-Kutta (SRK) demonstration\n",
    "The `AbstractSRK` class takes a `StochasticButcherTableau` and implements the corresponding SRK method.\n",
    "Depending on the tableau, the resulting method can either be used for general SDEs, or just for ones with additive noise.\n",
    "The additive-noise-only methods are somewhat faster, but will fail if the noise is not additive.\n",
    "Nevertheless, even in the additive noise case, the diffusion vector field can depend on time (just not on the state $y$). Then the SDE has the form:\n",
    "$$\n",
    "\\mathrm{d}y = f(y, t) \\mathrm{d}t + g(t) \\mathrm{d}W_t.\n",
    "$$\n",
    "To account for time-dependent noise, the SRK adds a term to the output of each step, which allows it to still maintain its usual strong order of convergence.\n",
    "\n",
    "The SRK is capable of utilising various types of time Levy area, depending on the tableau provided. It can use:\n",
    "- just the Brownian motion $W$, withouth any Levy area\n",
    "- $W$ and the space-time Levy area $H$\n",
    "- $W$, $H$ and the space-time-time Levy area $K$.\n",
    "For more information see the documentation of the `StochasticButcherTableau` class.\n",
    "\n",
    "First we will demonstrate an additive-noise-only SRK method, the ShARK method, on an SDE with additive, time-dependent noise.\n",
    "For more additive-noise SRKs see the langevin.ipynb notebook.\n",
    "\n",
    "We will compare various additive-noise-only SRK methods as well as some general SRK methods proposed by Foster."
   ]
  },
  {
   "metadata": {},
   "cell_type": "code",
   "outputs": [],
   "execution_count": null,
   "source": [
    "%env JAX_PLATFORM_NAME=cuda\n",
    "\n",
    "from mcmc.helpers import (\n",
    "    get_mlp_sde,\n",
    "    get_time_sde,\n",
    ")\n",
    "\n",
    "import diffrax\n",
    "import jax.numpy as jnp\n",
    "import jax.random as jr\n",
    "import matplotlib.pyplot as plt\n",
    "from diffrax import (\n",
    "    diffeqsolve,\n",
    "    GeneralShARK,\n",
    "    ShARK,\n",
    "    SlowRK,\n",
    "    SPaRK,\n",
    "    SRA1,\n",
    ")\n",
    "from drawing_and_evaluating import (\n",
    "    constant_step_strong_order,\n",
    "    draw_order_multiple,\n",
    "    plot_sol_general,\n",
    ")\n",
    "from jax import config\n",
    "\n",
    "\n",
    "config.update(\"jax_enable_x64\", True)\n",
    "jnp.set_printoptions(precision=4, suppress=True)\n",
    "\n",
    "\n",
    "# Plotting\n",
    "def draw_order(results):\n",
    "    steps, errs, order = results\n",
    "    plt.plot(steps, errs)\n",
    "    plt.yscale(\"log\")\n",
    "    plt.xscale(\"log\")\n",
    "    pretty_steps = [int(step) for step in steps]\n",
    "    plt.xticks(ticks=pretty_steps, labels=pretty_steps)\n",
    "    plt.ylabel(\"RMS error\")\n",
    "    plt.xlabel(\"average number of steps\")\n",
    "    plt.show()\n",
    "    print(f\"Order of convergence: {order:.4f}\")\n",
    "\n",
    "\n",
    "dtype = jnp.float64\n",
    "key = jr.PRNGKey(2)\n",
    "sde_key = jr.PRNGKey(11)\n",
    "num_samples = 100\n",
    "keys = jr.split(jr.PRNGKey(5678), num=num_samples)\n",
    "\n",
    "t0, t1 = 0.0, 16.0\n",
    "t_short = 4.0\n",
    "t_long = 32.0\n",
    "save_at_solver_steps = diffrax.SaveAt(steps=True)\n",
    "\n",
    "time_sde = get_time_sde(t0, t1, dtype=dtype, noise_dim=7, key=sde_key)\n",
    "terms_time_sde = time_sde.get_terms(\n",
    "    time_sde.get_bm(key, levy_area=\"space-time\", tol=2**-10)\n",
    ")\n",
    "time_sde_short = get_time_sde(t0, t_short, dtype=dtype, noise_dim=7, key=sde_key)\n",
    "\n",
    "mlp_sde = get_mlp_sde(t0, t1, dtype=dtype, key=sde_key, noise_dim=3)\n",
    "terms_mlp_sde = mlp_sde.get_terms(\n",
    "    mlp_sde.get_bm(key, levy_area=\"space-time\", tol=2**-10)\n",
    ")\n",
    "mlp_sde_short = get_mlp_sde(t0, t_short, dtype=dtype, key=sde_key, noise_dim=3)\n",
    "\n",
    "commutative_sde = get_mlp_sde(t0, t1, dtype=dtype, key=sde_key, noise_dim=1)\n",
    "terms_commutative_sde = commutative_sde.get_terms(\n",
    "    commutative_sde.get_bm(key, levy_area=\"space-time\", tol=2**-10)\n",
    ")\n",
    "commutative_sde_short = get_mlp_sde(t0, t_short, dtype=dtype, key=sde_key, noise_dim=1)"
   ],
   "id": "c2d404220eed6a6"
  },
  {
   "cell_type": "markdown",
   "id": "3114fb2bcb2ab174",
   "metadata": {
    "collapsed": false
   },
   "source": [
    "## ShARK\n",
    "`ShARK` is an SRK method for additive-noise SDEs. It uses two vector-field evaluations per step and has strong order 1.5, but applied to a Langevin SDE it has order 2.\n",
    " While it has the same order as `SRA1`, it has a better proportionality constant.\n",
    "\n",
    "Based on equation (6.1) in\n",
    "    Foster, J., dos Reis, G., & Strange, C. (2023).\n",
    "    High order splitting methods for SDEs satisfying a commutativity condition.\n",
    "    arXiv [Math.NA] http://arxiv.org/abs/2210.17543\n",
    "    \n",
    "\n",
    "## General ShARK\n",
    "`GeneralShARK` is a generalisation of the ShARK method which now works for any SDE, not only those with additive noise. It uses three evaluations of the vector field per step and has the following strong orders of convergence:\n",
    "- 2 for the Langevin SDEs\n",
    "- 1.5 for additive noise SDEs\n",
    "- 1 for commutative noise SDEs\n",
    "- 0.5 for general SDEs.\n",
    "\n",
    "\n",
    "## SRA1\n",
    "Another method for additive-noise SDEs.\n",
    "`SRA1` normally has strong order 1.5, but when applied to a Langevin SDE it has order 2. It natively supports adaptive-stepping via an embedded method for error estimation. Uses two evaluations of the vector-field per step.\n",
    "\n",
    "Based on the SRA1 method from\n",
    "    A. Rößler, Runge–Kutta methods for the strong approximation of solutions of stochastic differential equations,\n",
    "    SIAM Journal on Numerical Analysis, 8 (2010), pp. 922–952.\n",
    "    \n",
    "\n",
    "## Shifted Additive-noise Euler (SEA)\n",
    "This variant of the Euler-Maruyama makes use of the space-time Levy area, which improves its local error to $O(h^2)$ compared to $O(h^{1.5})$ of the standard Euler-Maruyama. Nevertheless, it has a strong order of only 1 for additive-noise SDEs.\n",
    "\n",
    "\n",
    " ## The \"Space-Time Optimal Runge-Kutta\" method\n",
    "This is a general Stochastic Runge-Kutta method with 3 evaluations of the vector field per step,\n",
    "based on Definition 1.6 from\n",
    "Foster, J. (2023).\n",
    "On the convergence of adaptive approximations for stochastic differential equations.\n",
    "arXiv [Math.NA]. Retrieved from http://arxiv.org/abs/2311.14201\n",
    "\n",
    "For general SDEs, this has order 0.5.\n",
    "When the noise is commutative it has order 1.\n",
    "When the noise is additive it has order 1.5.\n",
    "For the Langevin SDE it has order 2.\n",
    "Requires the space-time Levy area H.\n",
    "It also natively supports adaptive time-stepping.\n",
    "\n",
    "\n",
    "## SLOW-RK\n",
    "This is a general Stochastic Runge-Kutta method with 7 stages (2 evaluations of the drift vector field and 5 evaluations of the diffusion vector field) per step. Remarkably, it has order 1.5 for commutative noise SDEs and order 0.5 for general SDEs.\n",
    "Devised by James Foster."
   ]
  },
  {
   "cell_type": "markdown",
   "id": "12f62a28fb25ada",
   "metadata": {
    "collapsed": false
   },
   "source": [
    "# Comparison of the orders of convergence of various SRK methods\n",
    "## General SDEs"
   ]
  },
  {
   "cell_type": "code",
   "execution_count": 2,
   "id": "3b0a11dc7bb9f9bc",
   "metadata": {
    "ExecuteTime": {
     "end_time": "2024-02-12T15:32:49.904295388Z",
     "start_time": "2024-02-12T15:32:46.532130076Z"
    },
    "collapsed": false
   },
   "source": [
    "# A plot of the solution of the SDE used to compare the methods\n",
    "sol_general = diffeqsolve(\n",
    "    terms_mlp_sde,\n",
    "    GeneralShARK(),\n",
    "    t0,\n",
    "    t1,\n",
    "    dt0=0.02,\n",
    "    y0=mlp_sde.y0,\n",
    "    args=mlp_sde.args,\n",
    "    saveat=diffrax.SaveAt(steps=True),\n",
    ")\n",
    "plot_sol_general(sol_general)"
   ],
   "outputs": []
  },
  {
   "cell_type": "code",
   "execution_count": 4,
   "id": "5a8d281b0522bb92",
   "metadata": {
    "ExecuteTime": {
     "end_time": "2024-02-06T19:20:22.969229124Z",
     "start_time": "2024-02-06T19:19:30.468766027Z"
    },
    "collapsed": false
   },
   "source": [
    "# A comparison of SlowRK, SPaRK and GeneralShARK for general SDEs\n",
    "# We compute their orders and plot them on the same graph\n",
    "out_SLOWRK_mlp_sde = constant_step_strong_order(\n",
    "    keys, mlp_sde_short, SlowRK(), levels=(4, 10)\n",
    ")\n",
    "out_SPaRK_mlp_sde = constant_step_strong_order(\n",
    "    keys, mlp_sde_short, SPaRK(), levels=(4, 10)\n",
    ")\n",
    "out_GenShARK_mlp_sde = constant_step_strong_order(\n",
    "    keys, mlp_sde_short, GeneralShARK(), levels=(4, 10)\n",
    ")"
   ],
   "outputs": []
  },
  {
   "cell_type": "code",
   "execution_count": 11,
   "id": "5beb86506adfa933",
   "metadata": {
    "ExecuteTime": {
     "end_time": "2024-02-06T19:22:43.037581676Z",
     "start_time": "2024-02-06T19:22:42.898264379Z"
    },
    "collapsed": false
   },
   "source": [
    "draw_order_multiple(\n",
    "    [out_SLOWRK_mlp_sde, out_SPaRK_mlp_sde, out_GenShARK_mlp_sde],\n",
    "    [\"SlowRK\", \"SPaRK\", \"GeneralShARK\"],\n",
    "    title=\"Order of convergence on a general SDE\",\n",
    ")"
   ],
   "outputs": []
  },
  {
   "cell_type": "markdown",
   "id": "a260a1022d30c8",
   "metadata": {
    "collapsed": false
   },
   "source": [
    "## Commutative noise SDEs"
   ]
  },
  {
   "cell_type": "code",
   "execution_count": 6,
   "id": "4c72a44488366e9d",
   "metadata": {
    "ExecuteTime": {
     "end_time": "2024-02-02T17:23:44.735446957Z",
     "start_time": "2024-02-02T17:23:42.622564924Z"
    },
    "collapsed": false
   },
   "source": [
    "# A plot of the solution of the commutative-noise SDE used to compare the methods\n",
    "# A plot of the solution of the SDE\n",
    "# We will use this to compare the methods\n",
    "sol_commutative = diffeqsolve(\n",
    "    terms_commutative_sde,\n",
    "    GeneralShARK(),\n",
    "    t0,\n",
    "    t1,\n",
    "    dt0=0.02,\n",
    "    y0=commutative_sde.y0,\n",
    "    args=commutative_sde.args,\n",
    "    saveat=diffrax.SaveAt(steps=True),\n",
    ")\n",
    "plot_sol_general(sol_commutative)"
   ],
   "outputs": []
  },
  {
   "cell_type": "code",
   "execution_count": 6,
   "id": "3f6e04f29792d26a",
   "metadata": {
    "ExecuteTime": {
     "end_time": "2024-02-06T19:21:09.264842807Z",
     "start_time": "2024-02-06T19:20:23.120645133Z"
    },
    "collapsed": false
   },
   "source": [
    "# A comparison of SlowRK, SPaRK and GeneralShARK for commutative noise SDEs\n",
    "# We compute their orders and plot them on the same graph\n",
    "out_SLOWRK_commutative_sde = constant_step_strong_order(\n",
    "    keys, commutative_sde_short, SlowRK(), levels=(4, 10)\n",
    ")\n",
    "out_SPaRK_commutive_sde = constant_step_strong_order(\n",
    "    keys, commutative_sde_short, SPaRK(), levels=(4, 10)\n",
    ")\n",
    "out_GenShARK_commutative_sde = constant_step_strong_order(\n",
    "    keys, commutative_sde_short, GeneralShARK(), levels=(4, 10)\n",
    ")"
   ],
   "outputs": []
  },
  {
   "cell_type": "code",
   "execution_count": 12,
   "id": "9a887a880a90ecd4",
   "metadata": {
    "ExecuteTime": {
     "end_time": "2024-02-06T19:22:43.228526289Z",
     "start_time": "2024-02-06T19:22:43.043775496Z"
    },
    "collapsed": false
   },
   "source": [
    "draw_order_multiple(\n",
    "    [\n",
    "        out_SLOWRK_commutative_sde,\n",
    "        out_SPaRK_commutive_sde,\n",
    "        out_GenShARK_commutative_sde,\n",
    "    ],\n",
    "    [\"SlowRK\", \"SPaRK\", \"GeneralShARK\"],\n",
    "    title=\"Order of convergence on a commutative noise SDE\",\n",
    ")"
   ],
   "outputs": []
  },
  {
   "cell_type": "markdown",
   "id": "604ba9f83e626b75",
   "metadata": {
    "collapsed": false
   },
   "source": [
    "## Additive noise SDEs"
   ]
  },
  {
   "cell_type": "code",
   "execution_count": 3,
   "id": "9b82db9458a6d31a",
   "metadata": {
    "ExecuteTime": {
     "end_time": "2024-02-12T15:33:22.673072218Z",
     "start_time": "2024-02-12T15:33:19.542804522Z"
    },
    "collapsed": false
   },
   "source": [
    "# A plot of the solution of the additive-noise SDE used to compare the methods\n",
    "# A plot of the solution of the SDE\n",
    "# We will use this to compare the methods\n",
    "sol_additive = diffeqsolve(\n",
    "    terms_time_sde,\n",
    "    ShARK(),\n",
    "    t0,\n",
    "    t1,\n",
    "    dt0=0.02,\n",
    "    y0=time_sde.y0,\n",
    "    args=time_sde.args,\n",
    "    saveat=diffrax.SaveAt(steps=True),\n",
    ")\n",
    "plot_sol_general(sol_additive)"
   ],
   "outputs": []
  },
  {
   "cell_type": "code",
   "execution_count": 5,
   "id": "a8aeb3aa7e69b296",
   "metadata": {
    "ExecuteTime": {
     "end_time": "2024-02-08T15:13:14.101609425Z",
     "start_time": "2024-02-08T15:10:08.194502282Z"
    },
    "collapsed": false
   },
   "source": [
    "# A comparison of SRKs for additive noise SDEs\n",
    "# We compute their orders and plot them on the same graph\n",
    "out_SLOWRK_time_sde = constant_step_strong_order(\n",
    "    keys, time_sde_short, SlowRK(), levels=(4, 10)\n",
    ")\n",
    "out_SPaRK_time_sde = constant_step_strong_order(\n",
    "    keys, time_sde_short, SPaRK(), levels=(4, 10)\n",
    ")\n",
    "out_GenShARK_time_sde = constant_step_strong_order(\n",
    "    keys, time_sde_short, GeneralShARK(), levels=(4, 10)\n",
    ")\n",
    "out_ShARK_time_sde = constant_step_strong_order(\n",
    "    keys, time_sde_short, ShARK(), levels=(4, 10)\n",
    ")\n",
    "out_SRA1_time_sde = constant_step_strong_order(\n",
    "    keys, time_sde_short, SRA1(), levels=(4, 10)\n",
    ")"
   ],
   "outputs": []
  },
  {
   "cell_type": "code",
   "execution_count": 6,
   "id": "78fed5faa530d9eb",
   "metadata": {
    "ExecuteTime": {
     "end_time": "2024-02-08T15:13:14.292116883Z",
     "start_time": "2024-02-08T15:13:14.145007489Z"
    },
    "collapsed": false
   },
   "source": [
    "draw_order_multiple(\n",
    "    [\n",
    "        out_SLOWRK_time_sde,\n",
    "        out_SPaRK_time_sde,\n",
    "        out_GenShARK_time_sde,\n",
    "        out_ShARK_time_sde,\n",
    "        out_SRA1_time_sde,\n",
    "    ],\n",
    "    [\"SlowRK\", \"SPaRK\", \"GeneralShARK\", \"ShARK\", \"SRA1\"],\n",
    "    title=\"Order of convergence on an additive noise SDE\",\n",
    ")"
   ],
   "outputs": []
  },
  {
   "cell_type": "code",
   "execution_count": 11,
   "id": "12b1cd557c8975e5",
   "metadata": {
    "ExecuteTime": {
     "end_time": "2024-02-02T17:24:59.971439177Z",
     "start_time": "2024-02-02T17:24:59.969007118Z"
    },
    "collapsed": false
   },
   "source": [],
   "outputs": []
  }
 ],
 "metadata": {
  "kernelspec": {
   "display_name": "Python 3",
   "language": "python",
   "name": "python3"
  },
  "language_info": {
   "codemirror_mode": {
    "name": "ipython",
    "version": 2
   },
   "file_extension": ".py",
   "mimetype": "text/x-python",
   "name": "python",
   "nbconvert_exporter": "python",
   "pygments_lexer": "ipython2",
   "version": "2.7.6"
  }
 },
 "nbformat": 4,
 "nbformat_minor": 5
}
